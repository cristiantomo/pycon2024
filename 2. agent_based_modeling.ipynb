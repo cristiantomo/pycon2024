{
 "cells": [
  {
   "cell_type": "markdown",
   "id": "02bb9cfe-1517-4729-80d1-026a16c1380a",
   "metadata": {},
   "source": [
    "# Description\n",
    "This notebook facilitates the generation of synthetic data through Agent-based Modeling, utilizing distributions derived from the KDD99 Cup dataset. The resulting synthetic data is exported for subsequent applications."
   ]
  },
  {
   "cell_type": "code",
   "execution_count": 154,
   "id": "dab68a31-e21e-43d4-be84-8675cb9adda2",
   "metadata": {},
   "outputs": [],
   "source": [
    "# Python\n",
    "import os\n",
    "\n",
    "# Agent based modeling\n",
    "import mesa\n",
    "from mesa.datacollection import DataCollector\n",
    "\n",
    "# Data Handling\n",
    "import pandas as pd\n",
    "import numpy as np"
   ]
  },
  {
   "cell_type": "markdown",
   "id": "a294122e-3369-40ad-a2eb-b9e6d90171cc",
   "metadata": {},
   "source": [
    "# Helper functions"
   ]
  },
  {
   "cell_type": "code",
   "execution_count": 146,
   "id": "f687136a-a61a-43f7-a95d-2e88b3502914",
   "metadata": {},
   "outputs": [],
   "source": [
    "def get_distributions(directory_path):\n",
    "    # Ensure the directory path ends with a '/'\n",
    "    if not directory_path.endswith(os.sep):\n",
    "        directory_path += os.sep\n",
    "\n",
    "    try:\n",
    "        all_files = os.listdir(directory_path)\n",
    "    except FileNotFoundError:\n",
    "        print(f\"Directory {directory_path} not found.\")\n",
    "        return {}\n",
    "\n",
    "    distributions = {}\n",
    "    for file in all_files:\n",
    "        if file.endswith('.parquet'):\n",
    "            name = file.replace('.parquet', '')\n",
    "            try:\n",
    "                data = pd.read_parquet(os.path.join(directory_path, file))\n",
    "            except Exception as e:\n",
    "                print(f\"Error reading {file}: {e}\")\n",
    "                continue\n",
    "\n",
    "            var_type = 'cat' if ('service' in name or 'protocol_type' in name) else 'num'\n",
    "            distributions[name] = {'data': data, 'var_type': var_type}\n",
    "\n",
    "    return distributions"
   ]
  },
  {
   "cell_type": "markdown",
   "id": "a4e54704-b031-4c96-bdf6-826bd636a4d6",
   "metadata": {},
   "source": [
    "# Load distributions"
   ]
  },
  {
   "cell_type": "markdown",
   "id": "89cfb156-0b1f-43fa-b805-08cd89013fe2",
   "metadata": {},
   "source": [
    "## Normal"
   ]
  },
  {
   "cell_type": "code",
   "execution_count": 147,
   "id": "9ba98b4a-f5c8-4c8c-82ba-0447daa0c548",
   "metadata": {},
   "outputs": [],
   "source": [
    "directory_path = f'distributions{os.sep}normal{os.sep}'\n",
    "normal_agent_dist = get_distributions(directory_path)"
   ]
  },
  {
   "cell_type": "markdown",
   "id": "8144f770-6a02-400c-83b2-e7eba4f57db9",
   "metadata": {},
   "source": [
    "## Smurf"
   ]
  },
  {
   "cell_type": "code",
   "execution_count": 148,
   "id": "b7025447-71f3-4be1-ab07-a0fa4d588659",
   "metadata": {},
   "outputs": [],
   "source": [
    "directory_path = f'distributions{os.sep}smurf{os.sep}'\n",
    "smurf_agent_dist = get_distributions(directory_path)"
   ]
  },
  {
   "cell_type": "markdown",
   "id": "0e748743-1b55-49cb-b021-5147f96282c1",
   "metadata": {},
   "source": [
    "# Model"
   ]
  },
  {
   "cell_type": "code",
   "execution_count": 150,
   "id": "8d97134b-7574-4d8a-9957-63f7768fc528",
   "metadata": {},
   "outputs": [],
   "source": [
    "class NetworkModel(mesa.Model):\n",
    "    def __init__(self):\n",
    "        super().__init__()\n",
    "        self.schedule = mesa.time.RandomActivation(self)\n",
    "\n",
    "        self.datacollector = DataCollector(\n",
    "            agent_reporters={\n",
    "                \"target\": \"type\",\n",
    "                \"diff_srv_rate\": \"diff_srv_rate\",\n",
    "                \"service\": \"service\",\n",
    "                \"same_srv_rate\": \"same_srv_rate\",\n",
    "                \"protocol_type\": \"protocol_type\",\n",
    "                \"dst_host_same_src_port_rate\": \"dst_host_same_src_port_rate\",\n",
    "                \"srv_count\": \"srv_count\",\n",
    "                \"src_bytes\": \"src_bytes\",\n",
    "                \"count\": \"count\",\n",
    "            }\n",
    "        )\n",
    "\n",
    "    def step(self):\n",
    "        self.schedule.step()\n",
    "        self.datacollector.collect(self)\n"
   ]
  },
  {
   "cell_type": "markdown",
   "id": "9b351a47-2f5d-437c-896f-d5aa189e7de6",
   "metadata": {},
   "source": [
    "# Agents"
   ]
  },
  {
   "cell_type": "code",
   "execution_count": null,
   "id": "c7cc7170-37cf-42d6-b137-774251c4eacb",
   "metadata": {},
   "outputs": [],
   "source": [
    "class KDDAgent(mesa.Agent):\n",
    "    def __init__(self, unique_id, model, distributions, type_):\n",
    "        super().__init__(unique_id, model)\n",
    "        self.distributions = distributions\n",
    "        self.type = type_\n",
    "\n",
    "        # Variables\n",
    "        self.conn_vars = None\n",
    "        self.diff_srv_rate = None\n",
    "        self.service = None\n",
    "        self.same_srv_rate = None\n",
    "        self.protocol_type = None\n",
    "        self.dst_host_same_src_port_rate = None\n",
    "        self.srv_count = None\n",
    "        self.src_bytes = None\n",
    "        self.count = None\n",
    "\n",
    "    def step(self):\n",
    "        self.conn_vars = self.get_conn_variables_from_dist()\n",
    "        self.diff_srv_rate = self.conn_vars['diff_srv_rate']\n",
    "        self.service = self.conn_vars['service']\n",
    "        self.same_srv_rate = self.conn_vars['same_srv_rate']\n",
    "        self.protocol_type = self.conn_vars['protocol_type']\n",
    "        self.dst_host_same_src_port_rate = self.conn_vars['dst_host_same_src_port_rate']\n",
    "        self.srv_count = self.conn_vars['srv_count']\n",
    "        self.src_bytes = self.conn_vars['src_bytes']\n",
    "        self.count = self.conn_vars['count']\n",
    "\n",
    "    def get_conn_variables_from_dist(self):\n",
    "        \n",
    "        conn_variables = dict()\n",
    "        \n",
    "        for var in self.distributions:\n",
    "        \n",
    "            if self.distributions[var]['var_type'] == 'num':\n",
    "                new_sample = np.random.choice(\n",
    "                    self.distributions[var]['data']['values'], \n",
    "                    size=1, \n",
    "                    p=self.distributions[var]['data']['probs']\n",
    "                )\n",
    "                conn_variables[var] = new_sample[0]\n",
    "        \n",
    "            elif self.distributions[var]['var_type'] == 'cat':\n",
    "                # Convert probabilities to cumulative probabilities\n",
    "                temp_df = self.distributions[var]['data'].reset_index().copy()\n",
    "                temp_df['cumulative_prob'] = temp_df['count'].cumsum()\n",
    "                # Generate a random number between 0 and 1\n",
    "                random_number = np.random.rand()\n",
    "                # Find the index where the random number falls in the cumulative probabilities\n",
    "                choice_index = temp_df['cumulative_prob'].searchsorted(random_number)\n",
    "                # # Get the corresponding protocol type\n",
    "                chosen_option = temp_df[var][choice_index]\n",
    "            \n",
    "                conn_variables[var] = chosen_option\n",
    "                \n",
    "        return conn_variables\n"
   ]
  },
  {
   "cell_type": "markdown",
   "id": "bbb0bf88-6efe-4009-9340-f045da9f45e0",
   "metadata": {},
   "source": [
    "# Instantiate Model & Agents"
   ]
  },
  {
   "cell_type": "code",
   "execution_count": 152,
   "id": "d76c0b40-5c1a-4cae-80d2-83c5ee364684",
   "metadata": {},
   "outputs": [],
   "source": [
    "model = NetworkModel()\n",
    "\n",
    "normal_agent = KDDAgent(unique_id=1, model=model, distributions=normal_agent_dist, type_=b'normal.')\n",
    "smurf_agent = KDDAgent(unique_id=2, model=model, distributions=smurf_agent_dist, type_=b'smurf.')\n",
    "\n",
    "model.schedule.add(normal_agent)\n",
    "model.schedule.add(smurf_agent)"
   ]
  },
  {
   "cell_type": "markdown",
   "id": "11138cd2-09c8-4ee3-b457-4945c60bf666",
   "metadata": {},
   "source": [
    "# Run ABM simulation & save results"
   ]
  },
  {
   "cell_type": "code",
   "execution_count": 153,
   "id": "3b9646e8-7ed1-4db4-a345-b506ba1e27c9",
   "metadata": {},
   "outputs": [
    {
     "name": "stdout",
     "output_type": "stream",
     "text": [
      "0/50000 simulations\n",
      "5000/50000 simulations\n",
      "10000/50000 simulations\n",
      "15000/50000 simulations\n",
      "20000/50000 simulations\n",
      "25000/50000 simulations\n",
      "30000/50000 simulations\n",
      "35000/50000 simulations\n",
      "40000/50000 simulations\n",
      "45000/50000 simulations\n"
     ]
    }
   ],
   "source": [
    "iterations = 50000\n",
    "for i in range(iterations):\n",
    "    model.step()\n",
    "    if i%5000==0:\n",
    "        print(f'{i}/{iterations} simulations')\n",
    "\n",
    "agent_data = model.datacollector.get_agent_vars_dataframe()\n",
    "agent_data.to_parquet(f'data{os.sep}output{os.sep}simulated_data.parquet')"
   ]
  },
  {
   "cell_type": "code",
   "execution_count": null,
   "id": "eda52117-779c-49db-b1f8-1b4e3a5ec80c",
   "metadata": {},
   "outputs": [],
   "source": []
  }
 ],
 "metadata": {
  "kernelspec": {
   "display_name": "Python 3 (ipykernel)",
   "language": "python",
   "name": "python3"
  },
  "language_info": {
   "codemirror_mode": {
    "name": "ipython",
    "version": 3
   },
   "file_extension": ".py",
   "mimetype": "text/x-python",
   "name": "python",
   "nbconvert_exporter": "python",
   "pygments_lexer": "ipython3",
   "version": "3.9.6"
  }
 },
 "nbformat": 4,
 "nbformat_minor": 5
}
