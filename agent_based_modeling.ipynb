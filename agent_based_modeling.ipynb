{
 "cells": [
  {
   "cell_type": "code",
   "execution_count": 48,
   "id": "25a1a8a8-6544-4257-b6fa-744751b8405f",
   "metadata": {},
   "outputs": [],
   "source": [
    "import os\n",
    "\n",
    "import mesa\n",
    "\n",
    "import pandas as pd\n",
    "import numpy as np"
   ]
  },
  {
   "cell_type": "markdown",
   "id": "a294122e-3369-40ad-a2eb-b9e6d90171cc",
   "metadata": {},
   "source": [
    "# Helper functions"
   ]
  },
  {
   "cell_type": "code",
   "execution_count": 43,
   "id": "f687136a-a61a-43f7-a95d-2e88b3502914",
   "metadata": {},
   "outputs": [],
   "source": [
    "def get_distributions(directory_path):\n",
    "    # Ensure the directory path ends with a '/'\n",
    "    if not directory_path.endswith('/'):\n",
    "        directory_path += '/'\n",
    "\n",
    "    try:\n",
    "        all_files = os.listdir(directory_path)\n",
    "    except FileNotFoundError:\n",
    "        print(f\"Directory {directory_path} not found.\")\n",
    "        return {}\n",
    "\n",
    "    distributions = {}\n",
    "    for file in all_files:\n",
    "        if file.endswith('.parquet'):\n",
    "            name = file.replace('.parquet', '')\n",
    "            try:\n",
    "                data = pd.read_parquet(os.path.join(directory_path, file))\n",
    "            except Exception as e:\n",
    "                print(f\"Error reading {file}: {e}\")\n",
    "                continue\n",
    "\n",
    "            var_type = 'cat' if ('logged_in' in name or 'service' in name or 'protocol_type' in name) else 'num'\n",
    "            distributions[name] = {'data': data, 'var_type': var_type}\n",
    "\n",
    "    return distributions"
   ]
  },
  {
   "cell_type": "markdown",
   "id": "a4e54704-b031-4c96-bdf6-826bd636a4d6",
   "metadata": {},
   "source": [
    "# Load distributions"
   ]
  },
  {
   "cell_type": "markdown",
   "id": "89cfb156-0b1f-43fa-b805-08cd89013fe2",
   "metadata": {},
   "source": [
    "## Normal"
   ]
  },
  {
   "cell_type": "code",
   "execution_count": 145,
   "id": "9ba98b4a-f5c8-4c8c-82ba-0447daa0c548",
   "metadata": {},
   "outputs": [],
   "source": [
    "directory_path = f'distributions{os.sep}normal{os.sep}'\n",
    "normal_agent_dist = get_distributions(directory_path)"
   ]
  },
  {
   "cell_type": "code",
   "execution_count": 146,
   "id": "b7025447-71f3-4be1-ab07-a0fa4d588659",
   "metadata": {},
   "outputs": [],
   "source": [
    "directory_path = f'distributions{os.sep}smurf{os.sep}'\n",
    "smurf_agent_dist = get_distributions(directory_path)"
   ]
  },
  {
   "cell_type": "markdown",
   "id": "0e748743-1b55-49cb-b021-5147f96282c1",
   "metadata": {},
   "source": [
    "# Model"
   ]
  },
  {
   "cell_type": "code",
   "execution_count": 198,
   "id": "8d97134b-7574-4d8a-9957-63f7768fc528",
   "metadata": {},
   "outputs": [],
   "source": [
    "class NetworkModel(mesa.Model):\n",
    "    def __init__(self):\n",
    "        super().__init__()\n",
    "        self.schedule = mesa.time.RandomActivation(self)\n",
    "\n",
    "    def step(self):\n",
    "        self.schedule.step()\n"
   ]
  },
  {
   "cell_type": "markdown",
   "id": "9b351a47-2f5d-437c-896f-d5aa189e7de6",
   "metadata": {},
   "source": [
    "# Agents"
   ]
  },
  {
   "cell_type": "code",
   "execution_count": 195,
   "id": "2a50e6d2-4205-4bff-83d2-6f5a4906055c",
   "metadata": {},
   "outputs": [],
   "source": [
    "class KDDAgent(mesa.Agent):\n",
    "    def __init__(self, unique_id, model, distributions):\n",
    "        super().__init__(unique_id, model)\n",
    "        self.distributions = distributions\n",
    "\n",
    "    def get_conn_variables_from_dist(self):\n",
    "        \n",
    "        conn_variables = dict()\n",
    "        \n",
    "        for var in self.distributions:\n",
    "        \n",
    "            if self.distributions[var]['var_type'] == 'num':\n",
    "                new_sample = np.random.choice(\n",
    "                    self.distributions[var]['data']['values'], \n",
    "                    size=1, \n",
    "                    p=self.distributions[var]['data']['probs']\n",
    "                )\n",
    "                conn_variables[var] = new_sample[0]\n",
    "        \n",
    "            elif self.distributions[var]['var_type'] == 'cat':\n",
    "                # Convert probabilities to cumulative probabilities\n",
    "                temp_df = self.distributions[var]['data'].reset_index().copy()\n",
    "                temp_df['cumulative_prob'] = temp_df['count'].cumsum()\n",
    "                # Generate a random number between 0 and 1\n",
    "                random_number = np.random.rand()\n",
    "                # Find the index where the random number falls in the cumulative probabilities\n",
    "                choice_index = temp_df['cumulative_prob'].searchsorted(random_number)\n",
    "                # # Get the corresponding protocol type\n",
    "                chosen_option = temp_df[var][choice_index]\n",
    "            \n",
    "                conn_variables[var] = chosen_option\n",
    "                \n",
    "        return conn_variables\n",
    "\n",
    "class NormalAgent(KDDAgent):\n",
    "    def __init__(self, unique_id, model, distributions):\n",
    "        super().__init__(unique_id, model, distributions)\n",
    "\n",
    "    def step(self):\n",
    "        print('Normal')\n",
    "    \n",
    "\n",
    "class AttackerAgent(KDDAgent):\n",
    "    def __init__(self, unique_id, model, distributions, attack_type):\n",
    "        super().__init__(unique_id, model, distributions)\n",
    "        self.attack_type = attack_type\n",
    "\n",
    "    def step(self):\n",
    "        print('Attacker')"
   ]
  },
  {
   "cell_type": "code",
   "execution_count": 199,
   "id": "d76c0b40-5c1a-4cae-80d2-83c5ee364684",
   "metadata": {},
   "outputs": [],
   "source": [
    "model = NetworkModel()\n",
    "normal_agent = NormalAgent(unique_id=1, model=model, distributions=normal_agent_dist)\n",
    "smurf_agent = AttackerAgent(unique_id=1, model=model, distributions=smurf_agent_dist, attack_type='smurf')\n",
    "\n",
    "model.schedule.add(normal_agent)\n",
    "model.schedule.add(smurf_agent)"
   ]
  },
  {
   "cell_type": "code",
   "execution_count": 201,
   "id": "3b9646e8-7ed1-4db4-a345-b506ba1e27c9",
   "metadata": {},
   "outputs": [
    {
     "name": "stdout",
     "output_type": "stream",
     "text": [
      "Normal\n",
      "Attacker\n"
     ]
    }
   ],
   "source": [
    "for i in range(1):\n",
    "    model.step()"
   ]
  },
  {
   "cell_type": "code",
   "execution_count": null,
   "id": "58569d01-1166-4c55-8933-9aa573529e3b",
   "metadata": {},
   "outputs": [],
   "source": []
  }
 ],
 "metadata": {
  "kernelspec": {
   "display_name": "Python 3 (ipykernel)",
   "language": "python",
   "name": "python3"
  },
  "language_info": {
   "codemirror_mode": {
    "name": "ipython",
    "version": 3
   },
   "file_extension": ".py",
   "mimetype": "text/x-python",
   "name": "python",
   "nbconvert_exporter": "python",
   "pygments_lexer": "ipython3",
   "version": "3.9.6"
  }
 },
 "nbformat": 4,
 "nbformat_minor": 5
}
