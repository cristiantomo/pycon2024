{
 "cells": [
  {
   "cell_type": "code",
   "execution_count": 2,
   "id": "25a1a8a8-6544-4257-b6fa-744751b8405f",
   "metadata": {},
   "outputs": [],
   "source": [
    "import mesa"
   ]
  },
  {
   "cell_type": "code",
   "execution_count": null,
   "id": "2a50e6d2-4205-4bff-83d2-6f5a4906055c",
   "metadata": {},
   "outputs": [],
   "source": []
  }
 ],
 "metadata": {
  "kernelspec": {
   "display_name": "Python 3 (ipykernel)",
   "language": "python",
   "name": "python3"
  },
  "language_info": {
   "codemirror_mode": {
    "name": "ipython",
    "version": 3
   },
   "file_extension": ".py",
   "mimetype": "text/x-python",
   "name": "python",
   "nbconvert_exporter": "python",
   "pygments_lexer": "ipython3",
   "version": "3.9.6"
  }
 },
 "nbformat": 4,
 "nbformat_minor": 5
}
