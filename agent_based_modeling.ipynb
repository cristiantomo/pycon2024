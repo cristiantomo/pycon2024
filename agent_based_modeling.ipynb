{
 "cells": [
  {
   "cell_type": "code",
   "execution_count": 62,
   "id": "25a1a8a8-6544-4257-b6fa-744751b8405f",
   "metadata": {},
   "outputs": [],
   "source": [
    "import os\n",
    "\n",
    "import mesa\n",
    "from mesa.datacollection import DataCollector\n",
    "\n",
    "import pandas as pd\n",
    "import numpy as np"
   ]
  },
  {
   "cell_type": "markdown",
   "id": "a294122e-3369-40ad-a2eb-b9e6d90171cc",
   "metadata": {},
   "source": [
    "# Helper functions"
   ]
  },
  {
   "cell_type": "code",
   "execution_count": 52,
   "id": "f687136a-a61a-43f7-a95d-2e88b3502914",
   "metadata": {},
   "outputs": [],
   "source": [
    "def get_distributions(directory_path):\n",
    "    # Ensure the directory path ends with a '/'\n",
    "    if not directory_path.endswith('/'):\n",
    "        directory_path += '/'\n",
    "\n",
    "    try:\n",
    "        all_files = os.listdir(directory_path)\n",
    "    except FileNotFoundError:\n",
    "        print(f\"Directory {directory_path} not found.\")\n",
    "        return {}\n",
    "\n",
    "    distributions = {}\n",
    "    for file in all_files:\n",
    "        if file.endswith('.parquet'):\n",
    "            name = file.replace('.parquet', '')\n",
    "            try:\n",
    "                data = pd.read_parquet(os.path.join(directory_path, file))\n",
    "            except Exception as e:\n",
    "                print(f\"Error reading {file}: {e}\")\n",
    "                continue\n",
    "\n",
    "            var_type = 'cat' if ('service_encoded' in name or 'protocol_type_encoded' in name) else 'num'\n",
    "            distributions[name] = {'data': data, 'var_type': var_type}\n",
    "\n",
    "    return distributions"
   ]
  },
  {
   "cell_type": "markdown",
   "id": "a4e54704-b031-4c96-bdf6-826bd636a4d6",
   "metadata": {},
   "source": [
    "# Load distributions"
   ]
  },
  {
   "cell_type": "markdown",
   "id": "89cfb156-0b1f-43fa-b805-08cd89013fe2",
   "metadata": {},
   "source": [
    "## Normal"
   ]
  },
  {
   "cell_type": "code",
   "execution_count": 53,
   "id": "9ba98b4a-f5c8-4c8c-82ba-0447daa0c548",
   "metadata": {},
   "outputs": [],
   "source": [
    "directory_path = f'distributions{os.sep}normal{os.sep}'\n",
    "normal_agent_dist = get_distributions(directory_path)"
   ]
  },
  {
   "cell_type": "markdown",
   "id": "8144f770-6a02-400c-83b2-e7eba4f57db9",
   "metadata": {},
   "source": [
    "## Smurf"
   ]
  },
  {
   "cell_type": "code",
   "execution_count": 54,
   "id": "b7025447-71f3-4be1-ab07-a0fa4d588659",
   "metadata": {},
   "outputs": [],
   "source": [
    "directory_path = f'distributions{os.sep}smurf{os.sep}'\n",
    "smurf_agent_dist = get_distributions(directory_path)"
   ]
  },
  {
   "cell_type": "markdown",
   "id": "4c92463d-799c-4874-9243-795498908395",
   "metadata": {},
   "source": [
    "## Neptune"
   ]
  },
  {
   "cell_type": "code",
   "execution_count": 55,
   "id": "8ca71292-d555-472e-9fac-5d1dfbafae06",
   "metadata": {},
   "outputs": [],
   "source": [
    "directory_path = f'distributions{os.sep}neptune{os.sep}'\n",
    "neptune_agent_dist = get_distributions(directory_path)"
   ]
  },
  {
   "cell_type": "markdown",
   "id": "0e748743-1b55-49cb-b021-5147f96282c1",
   "metadata": {},
   "source": [
    "# Model"
   ]
  },
  {
   "cell_type": "code",
   "execution_count": 87,
   "id": "8d97134b-7574-4d8a-9957-63f7768fc528",
   "metadata": {},
   "outputs": [],
   "source": [
    "class NetworkModel(mesa.Model):\n",
    "    def __init__(self):\n",
    "        super().__init__()\n",
    "        self.schedule = mesa.time.RandomActivation(self)\n",
    "\n",
    "        self.datacollector = DataCollector(\n",
    "            agent_reporters={\n",
    "                \"diff_srv_rate\": \"diff_srv_rate\",\n",
    "                \"service_encoded\": \"service_encoded\",\n",
    "                \"same_srv_rate\": \"same_srv_rate\",\n",
    "                \"protocol_type_encoded\": \"protocol_type_encoded\",\n",
    "                \"dst_host_same_src_port_rate\": \"dst_host_same_src_port_rate\",\n",
    "                \"srv_count\": \"srv_count\",\n",
    "                \"src_bytes\": \"src_bytes\",\n",
    "                \"count\": \"count\",\n",
    "            }\n",
    "        )\n",
    "\n",
    "    def step(self):\n",
    "        self.schedule.step()\n",
    "        self.datacollector.collect(self)\n"
   ]
  },
  {
   "cell_type": "markdown",
   "id": "9b351a47-2f5d-437c-896f-d5aa189e7de6",
   "metadata": {},
   "source": [
    "# Agents"
   ]
  },
  {
   "cell_type": "code",
   "execution_count": 88,
   "id": "2a50e6d2-4205-4bff-83d2-6f5a4906055c",
   "metadata": {},
   "outputs": [],
   "source": [
    "class KDDAgent(mesa.Agent):\n",
    "    def __init__(self, unique_id, model, distributions, type_):\n",
    "        super().__init__(unique_id, model)\n",
    "        self.distributions = distributions\n",
    "        self.type = type_\n",
    "\n",
    "        # Variables\n",
    "        self.conn_vars = None\n",
    "        self.diff_srv_rate = None\n",
    "        self.service_encoded = None\n",
    "        self.same_srv_rate = None\n",
    "        self.protocol_type_encoded = None\n",
    "        self.dst_host_same_src_port_rate = None\n",
    "        self.srv_count = None\n",
    "        self.src_bytes = None\n",
    "        self.count = None\n",
    "\n",
    "    def step(self):\n",
    "        self.conn_vars = self.get_conn_variables_from_dist()\n",
    "        self.diff_srv_rate = self.conn_vars['diff_srv_rate']\n",
    "        self.service_encoded = self.conn_vars['service_encoded']\n",
    "        self.same_srv_rate = self.conn_vars['same_srv_rate']\n",
    "        self.protocol_type_encoded = self.conn_vars['protocol_type_encoded']\n",
    "        self.dst_host_same_src_port_rate = self.conn_vars['dst_host_same_src_port_rate']\n",
    "        self.srv_count = self.conn_vars['srv_count']\n",
    "        self.src_bytes = self.conn_vars['src_bytes']\n",
    "        self.count = self.conn_vars['count']\n",
    "\n",
    "    def get_conn_variables_from_dist(self):\n",
    "        \n",
    "        conn_variables = dict()\n",
    "        \n",
    "        for var in self.distributions:\n",
    "        \n",
    "            if self.distributions[var]['var_type'] == 'num':\n",
    "                new_sample = np.random.choice(\n",
    "                    self.distributions[var]['data']['values'], \n",
    "                    size=1, \n",
    "                    p=self.distributions[var]['data']['probs']\n",
    "                )\n",
    "                conn_variables[var] = new_sample[0]\n",
    "        \n",
    "            elif self.distributions[var]['var_type'] == 'cat':\n",
    "                # Convert probabilities to cumulative probabilities\n",
    "                temp_df = self.distributions[var]['data'].reset_index().copy()\n",
    "                temp_df['cumulative_prob'] = temp_df['count'].cumsum()\n",
    "                # Generate a random number between 0 and 1\n",
    "                random_number = np.random.rand()\n",
    "                # Find the index where the random number falls in the cumulative probabilities\n",
    "                choice_index = temp_df['cumulative_prob'].searchsorted(random_number)\n",
    "                # # Get the corresponding protocol type\n",
    "                chosen_option = temp_df[var][choice_index]\n",
    "            \n",
    "                conn_variables[var] = chosen_option\n",
    "                \n",
    "        return conn_variables\n"
   ]
  },
  {
   "cell_type": "code",
   "execution_count": 89,
   "id": "d76c0b40-5c1a-4cae-80d2-83c5ee364684",
   "metadata": {},
   "outputs": [],
   "source": [
    "model = NetworkModel()\n",
    "\n",
    "normal_agent = KDDAgent(unique_id=b'normal.', model=model, distributions=normal_agent_dist, type_='normal')\n",
    "smurf_agent = KDDAgent(unique_id=b'smurf.', model=model, distributions=smurf_agent_dist, type_='smurf')\n",
    "neptune_agent = KDDAgent(unique_id=b'neptune.', model=model, distributions=smurf_agent_dist, type_='neptune')\n",
    "\n",
    "model.schedule.add(normal_agent)\n",
    "model.schedule.add(smurf_agent)\n",
    "model.schedule.add(neptune_agent)"
   ]
  },
  {
   "cell_type": "code",
   "execution_count": 96,
   "id": "3b9646e8-7ed1-4db4-a345-b506ba1e27c9",
   "metadata": {},
   "outputs": [
    {
     "name": "stdout",
     "output_type": "stream",
     "text": [
      "0 10000\n",
      "1000 10000\n",
      "2000 10000\n",
      "3000 10000\n",
      "4000 10000\n",
      "5000 10000\n",
      "6000 10000\n",
      "7000 10000\n",
      "8000 10000\n",
      "9000 10000\n"
     ]
    }
   ],
   "source": [
    "iterations = 10000\n",
    "for i in range(iterations):\n",
    "    model.step()\n",
    "    if i%1000==0:\n",
    "        print(i, iterations)\n",
    "\n",
    "agent_data = model.datacollector.get_agent_vars_dataframe()"
   ]
  },
  {
   "cell_type": "code",
   "execution_count": 98,
   "id": "58569d01-1166-4c55-8933-9aa573529e3b",
   "metadata": {},
   "outputs": [],
   "source": [
    "agent_data.to_csv('test.csv')"
   ]
  },
  {
   "cell_type": "code",
   "execution_count": null,
   "id": "d3e191c9-9e21-439f-9bfd-7cdebbf42287",
   "metadata": {},
   "outputs": [],
   "source": []
  }
 ],
 "metadata": {
  "kernelspec": {
   "display_name": "Python 3 (ipykernel)",
   "language": "python",
   "name": "python3"
  },
  "language_info": {
   "codemirror_mode": {
    "name": "ipython",
    "version": 3
   },
   "file_extension": ".py",
   "mimetype": "text/x-python",
   "name": "python",
   "nbconvert_exporter": "python",
   "pygments_lexer": "ipython3",
   "version": "3.9.6"
  }
 },
 "nbformat": 4,
 "nbformat_minor": 5
}
